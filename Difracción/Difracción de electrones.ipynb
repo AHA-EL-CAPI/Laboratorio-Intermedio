{
 "cells": [
  {
   "cell_type": "code",
   "execution_count": 1,
   "metadata": {
    "collapsed": false
   },
   "outputs": [
    {
     "name": "stdout",
     "output_type": "stream",
     "text": [
      "Populating the interactive namespace from numpy and matplotlib\n"
     ]
    }
   ],
   "source": [
    "%pylab inline\n",
    "from scipy import stats"
   ]
  },
  {
   "cell_type": "code",
   "execution_count": 2,
   "metadata": {
    "collapsed": true
   },
   "outputs": [],
   "source": [
    "V = np.array([3.0,3.2,3.4,3.6,3.8,4.0,4.2,4.4,4.6,4.8,5.0])*1000.\n",
    "D1 = np.array([3.15,2.9,2.76,2.74,2.55,2.5,2.45,2.36,2.34,2.31,2.3])/100.\n",
    "D2 = np.array([5.3,4.85,4.75,4.55,4.4,4.25,4.2,4.12,4.11,3.92,3.88])/100.\n",
    "L = 13.68/100.\n",
    "d1 = 2.13*10**(-10)\n",
    "d2 = 1.23*10**(-10)\n",
    "\n",
    "def f1(x):\n",
    "    return x*d1/2./L\n",
    "\n",
    "def f2(x):\n",
    "    return x*d2/2./L\n",
    "\n",
    "h = 6.6256*10**(-34)\n",
    "m = 9.1091*10**(-31)\n",
    "e = 1.6021*10**(-19)\n",
    "\n",
    "def f3(x):\n",
    "    return h/np.sqrt(2.*m*e*x)"
   ]
  },
  {
   "cell_type": "code",
   "execution_count": 3,
   "metadata": {
    "collapsed": false
   },
   "outputs": [
    {
     "data": {
      "text/plain": [
       "array([  2.45230263e-11,   2.25767544e-11,   2.14868421e-11,\n",
       "         2.13311404e-11,   1.98519737e-11,   1.94627193e-11,\n",
       "         1.90734649e-11,   1.83728070e-11,   1.82171053e-11,\n",
       "         1.79835526e-11,   1.79057018e-11])"
      ]
     },
     "execution_count": 3,
     "metadata": {},
     "output_type": "execute_result"
    }
   ],
   "source": [
    "f1(D1)"
   ]
  },
  {
   "cell_type": "code",
   "execution_count": 4,
   "metadata": {
    "collapsed": false
   },
   "outputs": [
    {
     "data": {
      "text/plain": [
       "array([  2.38267544e-11,   2.18037281e-11,   2.13541667e-11,\n",
       "         2.04550439e-11,   1.97807018e-11,   1.91063596e-11,\n",
       "         1.88815789e-11,   1.85219298e-11,   1.84769737e-11,\n",
       "         1.76228070e-11,   1.74429825e-11])"
      ]
     },
     "execution_count": 4,
     "metadata": {},
     "output_type": "execute_result"
    }
   ],
   "source": [
    "f2(D2)"
   ]
  },
  {
   "cell_type": "code",
   "execution_count": 5,
   "metadata": {
    "collapsed": false
   },
   "outputs": [
    {
     "data": {
      "text/plain": [
       "array([  2.23906676e-11,   2.16796707e-11,   2.10323699e-11,\n",
       "         2.04397895e-11,   1.98946302e-11,   1.93908870e-11,\n",
       "         1.89235680e-11,   1.84884853e-11,   1.80820953e-11,\n",
       "         1.77013770e-11,   1.73437366e-11])"
      ]
     },
     "execution_count": 5,
     "metadata": {},
     "output_type": "execute_result"
    }
   ],
   "source": [
    "f3(V)"
   ]
  },
  {
   "cell_type": "code",
   "execution_count": 6,
   "metadata": {
    "collapsed": false
   },
   "outputs": [
    {
     "data": {
      "text/plain": [
       "3.8781773913102742e-11"
      ]
     },
     "execution_count": 6,
     "metadata": {},
     "output_type": "execute_result"
    }
   ],
   "source": [
    "f3(1000)"
   ]
  },
  {
   "cell_type": "code",
   "execution_count": 7,
   "metadata": {
    "collapsed": false
   },
   "outputs": [
    {
     "name": "stdout",
     "output_type": "stream",
     "text": [
      "2.13235870741e-12 1.43608677758e-12\n"
     ]
    }
   ],
   "source": [
    "a = f3(V)-f1(D1)\n",
    "b = f3(V)-f2(D2)\n",
    "print max(np.abs(a)),max(np.abs(b))"
   ]
  },
  {
   "cell_type": "code",
   "execution_count": 9,
   "metadata": {
    "collapsed": false,
    "scrolled": true
   },
   "outputs": [
    {
     "name": "stdout",
     "output_type": "stream",
     "text": [
      "1.60463361459e-10 1.21973433723e-12\n",
      "1.60463361459e-10 1.21973433723e-12 1.19372045821e-11\n",
      "1.02821322504e-10 8.39176532104e-13\n",
      "1.02821322504e-10 8.39176532104e-13 6.95797193016e-12\n",
      "1.9918569542 -0.00601747802705\n",
      "1.9918569542 -0.00601747802705 0.148178398759\n",
      "3.13415671775 -0.00609934682103\n",
      "3.13415671775 -0.00609934682103 0.21209000172\n"
     ]
    }
   ],
   "source": [
    "thefit1=np.polyfit(D1,h*2.*L/np.sqrt(2.*m*e*V),1)\n",
    "slope1=thefit1[0]\n",
    "intercept1=thefit1[1]\n",
    "print slope1, intercept1\n",
    "\n",
    "slope11, intercept11, r_value11, p_value11, std_err11 = stats.linregress(D1,h*2.*L/np.sqrt(2.*m*e*V))\n",
    "print slope11, intercept11, std_err11\n",
    "\n",
    "thefit2=np.polyfit(D2,h*2.*L/np.sqrt(2.*m*e*V),1)\n",
    "slope2=thefit2[0]\n",
    "intercept2=thefit2[1]\n",
    "print slope2, intercept2\n",
    "\n",
    "slope22, intercept22, r_value22, p_value22, std_err22 = stats.linregress(D2,h*2.*L/np.sqrt(2.*m*e*V))\n",
    "print slope22, intercept22, std_err22\n",
    "\n",
    "thefit3=np.polyfit(1./np.sqrt(V),D1,1)\n",
    "slope3=thefit3[0]\n",
    "intercept3=thefit3[1]\n",
    "print slope3, intercept3\n",
    "\n",
    "slope33, intercept33, r_value33, p_value33, std_err33 = stats.linregress(1./np.sqrt(V),D1)\n",
    "print slope33, intercept33, std_err33\n",
    "\n",
    "thefit4=np.polyfit(1./np.sqrt(V),D2,1)\n",
    "slope4=thefit4[0]\n",
    "intercept4=thefit4[1]\n",
    "print slope4, intercept4\n",
    "\n",
    "slope44, intercept44, r_value44, p_value44, std_err44 = stats.linregress(1./np.sqrt(V),D2)\n",
    "print slope44, intercept44, std_err44"
   ]
  },
  {
   "cell_type": "code",
   "execution_count": 10,
   "metadata": {
    "collapsed": false
   },
   "outputs": [
    {
     "data": {
      "text/plain": [
       "1.6845566367368261e-10"
      ]
     },
     "execution_count": 10,
     "metadata": {},
     "output_type": "execute_result"
    }
   ],
   "source": [
    "h*2.*L/np.sqrt(2.*m*e)/1.9918569542"
   ]
  },
  {
   "cell_type": "code",
   "execution_count": 11,
   "metadata": {
    "collapsed": false
   },
   "outputs": [
    {
     "data": {
      "text/plain": [
       "1.0705896844995158e-10"
      ]
     },
     "execution_count": 11,
     "metadata": {},
     "output_type": "execute_result"
    }
   ],
   "source": [
    "h*2.*L/np.sqrt(2.*m*e)/3.13415671775"
   ]
  },
  {
   "cell_type": "code",
   "execution_count": 12,
   "metadata": {
    "collapsed": false
   },
   "outputs": [
    {
     "data": {
      "text/plain": [
       "8.3775918792125242e-34"
      ]
     },
     "execution_count": 12,
     "metadata": {},
     "output_type": "execute_result"
    }
   ],
   "source": [
    "d1*1.9918569542*np.sqrt(2.*m*e)/2./L"
   ]
  },
  {
   "cell_type": "code",
   "execution_count": 15,
   "metadata": {
    "collapsed": false
   },
   "outputs": [
    {
     "data": {
      "text/plain": [
       "6.2322655625473609e-35"
      ]
     },
     "execution_count": 15,
     "metadata": {},
     "output_type": "execute_result"
    }
   ],
   "source": [
    "d1*0.148178398759*np.sqrt(2.*m*e)/2./L"
   ]
  },
  {
   "cell_type": "code",
   "execution_count": 13,
   "metadata": {
    "collapsed": false
   },
   "outputs": [
    {
     "data": {
      "text/plain": [
       "7.6121488166680413e-34"
      ]
     },
     "execution_count": 13,
     "metadata": {},
     "output_type": "execute_result"
    }
   ],
   "source": [
    "d2*3.13415671775*np.sqrt(2.*m*e)/2./L"
   ]
  },
  {
   "cell_type": "code",
   "execution_count": 16,
   "metadata": {
    "collapsed": false
   },
   "outputs": [
    {
     "data": {
      "text/plain": [
       "5.1511803684757554e-35"
      ]
     },
     "execution_count": 16,
     "metadata": {},
     "output_type": "execute_result"
    }
   ],
   "source": [
    "d2*0.21209000172*np.sqrt(2.*m*e)/2./L"
   ]
  },
  {
   "cell_type": "code",
   "execution_count": 14,
   "metadata": {
    "collapsed": false
   },
   "outputs": [
    {
     "data": {
      "text/plain": [
       "7.994870347940284e-34"
      ]
     },
     "execution_count": 14,
     "metadata": {},
     "output_type": "execute_result"
    }
   ],
   "source": [
    "(8.3775918792125242e-34 + 7.6121488166680413e-34)/2."
   ]
  },
  {
   "cell_type": "code",
   "execution_count": null,
   "metadata": {
    "collapsed": true
   },
   "outputs": [],
   "source": []
  }
 ],
 "metadata": {
  "kernelspec": {
   "display_name": "Python 2",
   "language": "python",
   "name": "python2"
  },
  "language_info": {
   "codemirror_mode": {
    "name": "ipython",
    "version": 2
   },
   "file_extension": ".py",
   "mimetype": "text/x-python",
   "name": "python",
   "nbconvert_exporter": "python",
   "pygments_lexer": "ipython2",
   "version": "2.7.9"
  }
 },
 "nbformat": 4,
 "nbformat_minor": 0
}
