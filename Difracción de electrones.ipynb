{
 "cells": [
  {
   "cell_type": "code",
   "execution_count": 1,
   "metadata": {
    "collapsed": false
   },
   "outputs": [
    {
     "name": "stdout",
     "output_type": "stream",
     "text": [
      "Populating the interactive namespace from numpy and matplotlib\n"
     ]
    }
   ],
   "source": [
    "%pylab inline"
   ]
  },
  {
   "cell_type": "code",
   "execution_count": 14,
   "metadata": {
    "collapsed": true
   },
   "outputs": [],
   "source": [
    "V = np.array([3.0,3.2,3.4,3.6,3.8,4.0,4.2,4.4,4.6,4.8,5.0])*1000.\n",
    "D1 = np.array([3.15,2.9,2.74,2.76,2.55,2.5,2.45,2.36,2.34,2.31,2.3])/100.\n",
    "D2 = np.array([5.3,4.85,4.75,4.55,4.4,4.25,4.2,4.12,4.11,3.92,3.88])/100.\n",
    "L = 13.68/100.\n",
    "d1 = 2.13*10**(-10)\n",
    "d2 = 1.23*10**(-10)\n",
    "\n",
    "def f1(x):\n",
    "    return x*d1/2./L\n",
    "\n",
    "def f2(x):\n",
    "    return x*d2/2./L\n",
    "\n",
    "h = 6.6256*10**(-34)\n",
    "m = 9.1091*10**(-31)\n",
    "e = 1.6021*10**(-19)\n",
    "\n",
    "def f3(x):\n",
    "    return h/np.sqrt(2.*m*e*x)"
   ]
  },
  {
   "cell_type": "code",
   "execution_count": 34,
   "metadata": {
    "collapsed": false
   },
   "outputs": [
    {
     "data": {
      "text/plain": [
       "[<matplotlib.lines.Line2D at 0x7f60f9279950>]"
      ]
     },
     "execution_count": 34,
     "metadata": {},
     "output_type": "execute_result"
    },
    {
     "data": {
      "image/png": "[encoded data removed]",
      "text/plain": [
       "<matplotlib.figure.Figure at 0x7f60f96e3150>"
      ]
     },
     "metadata": {},
     "output_type": "display_data"
    }
   ],
   "source": [
    "b"
   ]
  },
  {
   "cell_type": "code",
   "execution_count": 30,
   "metadata": {
    "collapsed": false
   },
   "outputs": [
    {
     "data": {
      "text/plain": [
       "3.8781773913102742e-11"
      ]
     },
     "execution_count": 30,
     "metadata": {},
     "output_type": "execute_result"
    }
   ],
   "source": [
    "f3(1000)"
   ]
  },
  {
   "cell_type": "code",
   "execution_count": 15,
   "metadata": {
    "collapsed": false
   },
   "outputs": [
    {
     "name": "stdout",
     "output_type": "stream",
     "text": [
      "2.13235870741e-12 1.43608677758e-12\n"
     ]
    }
   ],
   "source": [
    "a = f3(V)-f1(D1)\n",
    "b = f3(V)-f2(D2)\n",
    "print max(np.abs(a)),max(np.abs(b))"
   ]
  },
  {
   "cell_type": "code",
   "execution_count": 24,
   "metadata": {
    "collapsed": false,
    "scrolled": true
   },
   "outputs": [
    {
     "name": "stdout",
     "output_type": "stream",
     "text": [
      "1.60040467143e-10 1.23063732162e-12\n",
      "1.02821322504e-10 8.39176532104e-13\n",
      "1.9866075005 -0.00593367234378\n",
      "3.13415671775 -0.00609934682103\n"
     ]
    }
   ],
   "source": [
    "thefit1=np.polyfit(D1,h*2.*L/np.sqrt(2.*m*e*V),1)\n",
    "slope1=thefit1[0]\n",
    "intercept1=thefit1[1]\n",
    "print slope1, intercept1\n",
    "\n",
    "thefit2=np.polyfit(D2,h*2.*L/np.sqrt(2.*m*e*V),1)\n",
    "slope2=thefit2[0]\n",
    "intercept2=thefit2[1]\n",
    "print slope2, intercept2\n",
    "\n",
    "thefit3=np.polyfit(1./np.sqrt(V),D1,1)\n",
    "slope3=thefit3[0]\n",
    "intercept3=thefit3[1]\n",
    "print slope3, intercept3\n",
    "\n",
    "thefit4=np.polyfit(1./np.sqrt(V),D2,1)\n",
    "slope4=thefit4[0]\n",
    "intercept4=thefit4[1]\n",
    "print slope4, intercept4"
   ]
  },
  {
   "cell_type": "code",
   "execution_count": 23,
   "metadata": {
    "collapsed": false
   },
   "outputs": [
    {
     "data": {
      "text/plain": [
       "1.6890079448424041e-10"
      ]
     },
     "execution_count": 23,
     "metadata": {},
     "output_type": "execute_result"
    }
   ],
   "source": [
    "h*2.*L/np.sqrt(2.*m*e)/1.9866075005"
   ]
  },
  {
   "cell_type": "code",
   "execution_count": 25,
   "metadata": {
    "collapsed": false
   },
   "outputs": [
    {
     "data": {
      "text/plain": [
       "1.0705896844995158e-10"
      ]
     },
     "execution_count": 25,
     "metadata": {},
     "output_type": "execute_result"
    }
   ],
   "source": [
    "h*2.*L/np.sqrt(2.*m*e)/3.13415671775"
   ]
  },
  {
   "cell_type": "code",
   "execution_count": 27,
   "metadata": {
    "collapsed": false
   },
   "outputs": [
    {
     "data": {
      "text/plain": [
       "8.3555130945916254e-34"
      ]
     },
     "execution_count": 27,
     "metadata": {},
     "output_type": "execute_result"
    }
   ],
   "source": [
    "d1*1.9866075005*np.sqrt(2.*m*e)/2./L"
   ]
  },
  {
   "cell_type": "code",
   "execution_count": 29,
   "metadata": {
    "collapsed": false
   },
   "outputs": [
    {
     "data": {
      "text/plain": [
       "7.6121488166680413e-34"
      ]
     },
     "execution_count": 29,
     "metadata": {},
     "output_type": "execute_result"
    }
   ],
   "source": [
    "d2*3.13415671775*np.sqrt(2.*m*e)/2./L"
   ]
  },
  {
   "cell_type": "code",
   "execution_count": 32,
   "metadata": {
    "collapsed": false
   },
   "outputs": [
    {
     "data": {
      "text/plain": [
       "7.983830955629834e-34"
      ]
     },
     "execution_count": 32,
     "metadata": {},
     "output_type": "execute_result"
    }
   ],
   "source": [
    "(8.3555130945916254e-34 + 7.6121488166680413e-34)/2."
   ]
  },
  {
   "cell_type": "code",
   "execution_count": null,
   "metadata": {
    "collapsed": true
   },
   "outputs": [],
   "source": []
  }
 ],
 "metadata": {
  "kernelspec": {
   "display_name": "Python 2",
   "language": "python",
   "name": "python2"
  },
  "language_info": {
   "codemirror_mode": {
    "name": "ipython",
    "version": 2
   },
   "file_extension": ".py",
   "mimetype": "text/x-python",
   "name": "python",
   "nbconvert_exporter": "python",
   "pygments_lexer": "ipython2",
   "version": "2.7.9"
  }
 },
 "nbformat": 4,
 "nbformat_minor": 0
}
